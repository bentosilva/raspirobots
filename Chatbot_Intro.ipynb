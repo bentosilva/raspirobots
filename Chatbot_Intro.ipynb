{
  "nbformat": 4,
  "nbformat_minor": 0,
  "metadata": {
    "colab": {
      "name": "Chatbot_Intro.ipynb",
      "provenance": [],
      "authorship_tag": "ABX9TyOCSSZWvqvResJv0oIaRYDU",
      "include_colab_link": true
    },
    "kernelspec": {
      "name": "python3",
      "display_name": "Python 3"
    }
  },
  "cells": [
    {
      "cell_type": "markdown",
      "metadata": {
        "id": "view-in-github",
        "colab_type": "text"
      },
      "source": [
        "<a href=\"https://colab.research.google.com/github/bentosilva/raspirobots/blob/master/Chatbot_Intro.ipynb\" target=\"_parent\"><img src=\"https://colab.research.google.com/assets/colab-badge.svg\" alt=\"Open In Colab\"/></a>"
      ]
    },
    {
      "cell_type": "code",
      "metadata": {
        "colab": {
          "base_uri": "https://localhost:8080/",
          "height": 135
        },
        "id": "8CUnrx_11AF9",
        "outputId": "8150b492-5a2e-469b-f06e-398c61bb9f73"
      },
      "source": [
        "# STEP 1 -- THE BOT-USER CONVERSATION TRACKING TEMPLATES\r\n",
        "print(\"BOT: Como você se chama?\")\r\n",
        "user_name = input()\r\n",
        "bot_template = \"BOT : {0}\" # Stores what the BOT says; responsive values inside the curly brackets\r\n",
        "user_template = user_name + \" : {0}\" # Stores what the user says; responsive values inside the curly brackets\r\n",
        "# STEP 2 -- THE CHATBOT RESPONSES\r\n",
        "name = \"Rosalino\"\r\n",
        "weather = \"rainy\"\r\n",
        "mood = \"Happy\"\r\n",
        "\r\n",
        "responses = { \r\n",
        "\"what's your name?\": [ \r\n",
        "\"They call me {0}\".format(name), \r\n",
        "\"I usually go by {0}\".format(name), \r\n",
        "\"My name is the {0}\".format(name) ],\r\n",
        "\r\n",
        "\"what's today's weather?\": [ \r\n",
        "\"The weather is {0}\".format(weather), \r\n",
        "\"It's {0} today\".format(weather), \r\n",
        "\"Let me check, it looks {0} today\".format(weather) ],\r\n",
        "\r\n",
        "\"Are you a robot?\": [ \r\n",
        "\"What do you think?\", \r\n",
        "\"Maybe yes, maybe no!\", \r\n",
        "\"Yes, I am a robot with human feelings.\", ],\r\n",
        "\r\n",
        "\"how are you?\": [ \r\n",
        "\"I am feeling {0}\".format(mood), \r\n",
        "\"{0}! How about you?\".format(mood), \r\n",
        "\"I am {0}! How about yourself?\".format(mood), ],\r\n",
        "\r\n",
        "\"\": [ \r\n",
        "\"Hey! Are you there?\", \r\n",
        "\"What do you mean by saying nothing?\", \r\n",
        "\"Sometimes saying nothing tells a lot:)\", ],\r\n",
        "\r\n",
        "\"default\": [\r\n",
        "\"this is a default message\"]\r\n",
        "}\r\n",
        "\r\n",
        "# STEP 3 -- RESPONSE FUNCTION\r\n",
        "def respond(message):\r\n",
        "\r\n",
        "if message in responses: \r\n",
        "    bot_message = random.choice(responses[message])\r\n",
        "    \r\n",
        "else: \r\n",
        "    bot_message = random.choice(responses[\"default\"])\r\n",
        "\r\n",
        "return bot_message\r\n",
        "\r\n",
        "\r\n",
        "\r\n",
        "\r\n",
        "\r\n",
        "\r\n",
        "\r\n",
        "\r\n",
        "\r\n",
        "\r\n"
      ],
      "execution_count": 1,
      "outputs": [
        {
          "output_type": "error",
          "ename": "SyntaxError",
          "evalue": "ignored",
          "traceback": [
            "\u001b[0;36m  File \u001b[0;32m\"<ipython-input-1-83cecabb047e>\"\u001b[0;36m, line \u001b[0;32m11\u001b[0m\n\u001b[0;31m    responses = {responses = {\u001b[0m\n\u001b[0m                           ^\u001b[0m\n\u001b[0;31mSyntaxError\u001b[0m\u001b[0;31m:\u001b[0m invalid syntax\n"
          ]
        }
      ]
    },
    {
      "cell_type": "code",
      "metadata": {
        "id": "WLr9BFmb6hXW"
      },
      "source": [
        ""
      ],
      "execution_count": null,
      "outputs": []
    }
  ]
}